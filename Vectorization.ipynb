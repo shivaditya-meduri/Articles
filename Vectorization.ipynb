{
 "cells": [
  {
   "cell_type": "markdown",
   "id": "c695a2dc",
   "metadata": {},
   "source": [
    "# Vectorization\n",
    "\n",
    "##  Improve data processing speeds while using numpy arrays in Python through vectorization\n",
    "\n",
    "### Vectorization is  faster when compared to traditional for loops, in this jupyter notebook we will compare the execution speeds of traditional for-loops and vectorized functions available in the numpy library\n",
    "\n",
    "### By Shivaditya Meduri"
   ]
  },
  {
   "cell_type": "code",
   "execution_count": 1,
   "id": "cc732583",
   "metadata": {},
   "outputs": [],
   "source": [
    "from sklearn.datasets import load_digits\n",
    "digits = load_digits()"
   ]
  },
  {
   "cell_type": "code",
   "execution_count": 13,
   "id": "1ace05d5",
   "metadata": {
    "scrolled": true
   },
   "outputs": [
    {
     "data": {
      "text/plain": [
       "<matplotlib.image.AxesImage at 0x230c3d5bb20>"
      ]
     },
     "execution_count": 13,
     "metadata": {},
     "output_type": "execute_result"
    },
    {
     "data": {
      "text/plain": [
       "<Figure size 432x288 with 0 Axes>"
      ]
     },
     "metadata": {},
     "output_type": "display_data"
    },
    {
     "data": {
      "image/png": "[encoded data removed]",
      "text/plain": [
       "<Figure size 288x288 with 1 Axes>"
      ]
     },
     "metadata": {
      "needs_background": "light"
     },
     "output_type": "display_data"
    }
   ],
   "source": [
    "import matplotlib.pyplot as plt\n",
    "plt.gray()\n",
    "plt.matshow(digits.images[3])"
   ]
  },
  {
   "cell_type": "markdown",
   "id": "8bbba0bc",
   "metadata": {},
   "source": [
    "# Scaling of image data for deep learning algorithms"
   ]
  },
  {
   "cell_type": "code",
   "execution_count": 97,
   "id": "0c5a5261",
   "metadata": {},
   "outputs": [
    {
     "name": "stdout",
     "output_type": "stream",
     "text": [
      "Time taking with training loop is : 96.99487686157227ms\n"
     ]
    }
   ],
   "source": [
    "#Using traditional for-loops\n",
    "s = mnist.shape\n",
    "tic = time.time()\n",
    "for i in range(s[0]):\n",
    "    for j in range(s[1]):\n",
    "        mnist[i][j] = mnist[i][j]/255\n",
    "toc = time.time()\n",
    "print(\"Time taking with training loop is : {0}ms\".format((toc-tic)*1000))"
   ]
  },
  {
   "cell_type": "code",
   "execution_count": 98,
   "id": "96e281b7",
   "metadata": {},
   "outputs": [],
   "source": [
    "digits = load_digits()\n",
    "mnist = digits.data"
   ]
  },
  {
   "cell_type": "code",
   "execution_count": 99,
   "id": "5c2cd0dd",
   "metadata": {},
   "outputs": [
    {
     "name": "stdout",
     "output_type": "stream",
     "text": [
      "Time taking with Vectorization is : 6.717443466186523ms\n"
     ]
    }
   ],
   "source": [
    "#Using vectorization\n",
    "tic = time.time()\n",
    "mnist = mnist/255\n",
    "toc = time.time()\n",
    "print(\"Time taking with Vectorization is : {0}ms\".format((toc-tic)*1000))"
   ]
  },
  {
   "cell_type": "markdown",
   "id": "94ab58b3",
   "metadata": {},
   "source": [
    "# Log transformation"
   ]
  },
  {
   "cell_type": "code",
   "execution_count": 157,
   "id": "53969624",
   "metadata": {},
   "outputs": [
    {
     "name": "stdout",
     "output_type": "stream",
     "text": [
      "Time taken with For-loop : 2.0296573638916016ms\n"
     ]
    }
   ],
   "source": [
    "import math\n",
    "data = pd.read_csv(\"housing.csv\").values\n",
    "s = data.shape\n",
    "tic = time.time()\n",
    "for i in range(s[0]):\n",
    "    for j in range(s[1]):\n",
    "        data[i][j] = math.log(data[i][j])\n",
    "toc = time.time()\n",
    "print(\"Time taken with For-loop : {0}ms\".format((toc-tic)*1000))"
   ]
  },
  {
   "cell_type": "code",
   "execution_count": 158,
   "id": "bfa00969",
   "metadata": {},
   "outputs": [
    {
     "name": "stdout",
     "output_type": "stream",
     "text": [
      "Time taken with Vectorization : 0.0ms\n"
     ]
    }
   ],
   "source": [
    "import math\n",
    "data = pd.read_csv(\"housing.csv\").values\n",
    "tic = time.time()\n",
    "data = np.log(data)\n",
    "toc = time.time()\n",
    "print(\"Time taken with Vectorization : {0}ms\".format((toc-tic)*1000))"
   ]
  },
  {
   "cell_type": "markdown",
   "id": "2e991762",
   "metadata": {},
   "source": [
    "### Matrix Multiplication using traditional for-loops and vectorization"
   ]
  },
  {
   "cell_type": "code",
   "execution_count": 171,
   "id": "d73bb692",
   "metadata": {},
   "outputs": [
    {
     "name": "stdout",
     "output_type": "stream",
     "text": [
      "Time taken by For-Loop: 1195.0178146362305ms\n"
     ]
    }
   ],
   "source": [
    "A = np.random.randn(10000).reshape((100, 100))\n",
    "B = np.random.randn(10000).reshape((100, 100))\n",
    "C = np.zeros((100, 100))\n",
    "tic = time.time()\n",
    "for i in range(100):\n",
    "    for j in range(100):\n",
    "        for k in range(100):\n",
    "            C[i][j] += A[i][k]*B[k][j]\n",
    "toc = time.time()\n",
    "print(\"Time taken by For-Loop: {0}ms\".format((toc - tic)*1000))"
   ]
  },
  {
   "cell_type": "code",
   "execution_count": 174,
   "id": "daa2ce99",
   "metadata": {},
   "outputs": [
    {
     "name": "stdout",
     "output_type": "stream",
     "text": [
      "Time taken by vectorization: 1.0304450988769531ms\n"
     ]
    }
   ],
   "source": [
    "A = np.random.randn(10000).reshape((100, 100))\n",
    "B = np.random.randn(10000).reshape((100, 100))\n",
    "tic = time.time()\n",
    "C = np.dot(A, B)\n",
    "toc = time.time()\n",
    "print(\"Time taken by vectorization: {0}ms\".format((toc - tic)*1000))"
   ]
  },
  {
   "cell_type": "markdown",
   "id": "40034362",
   "metadata": {},
   "source": [
    "### Applying custom function"
   ]
  },
  {
   "cell_type": "code",
   "execution_count": 178,
   "id": "c1f38b8b",
   "metadata": {},
   "outputs": [
    {
     "name": "stdout",
     "output_type": "stream",
     "text": [
      "Time taken :0.9973049163818359ms\n"
     ]
    }
   ],
   "source": [
    "A = np.random.randn(1000)\n",
    "B = np.zeros(1000)\n",
    "def func(a):\n",
    "    return a**2 + 5*a +35 \n",
    "tic = time.time()\n",
    "for i in range(1000):\n",
    "    B[i] = func(A[i])\n",
    "toc = time.time()\n",
    "print(\"Time taken :{0}ms\".format((toc-tic)*1000))"
   ]
  },
  {
   "cell_type": "code",
   "execution_count": 179,
   "id": "60f2bc89",
   "metadata": {},
   "outputs": [
    {
     "name": "stdout",
     "output_type": "stream",
     "text": [
      "Time taken :0.0ms\n"
     ]
    }
   ],
   "source": [
    "tic = time.time()\n",
    "B = A**2 + 5*A +35\n",
    "toc = time.time()\n",
    "print(\"Time taken :{0}ms\".format((toc-tic)*1000))"
   ]
  },
  {
   "cell_type": "markdown",
   "id": "ac0a358f",
   "metadata": {},
   "source": [
    "### Using numpy vectorize"
   ]
  },
  {
   "cell_type": "code",
   "execution_count": 203,
   "id": "8515d24d",
   "metadata": {},
   "outputs": [
    {
     "name": "stdout",
     "output_type": "stream",
     "text": [
      "Time taken: 8.03375244140625ms\n"
     ]
    }
   ],
   "source": [
    "A= np.random.randn(10000)\n",
    "C = np.zeros(10000)\n",
    "def f(a):\n",
    "    if a>10:\n",
    "        return a**2\n",
    "    else:\n",
    "        return a\n",
    "tic = time.time()\n",
    "#Using a traditional for-loop\n",
    "for i in range(10000):\n",
    "    C[i] = f(A[i])\n",
    "toc = time.time()\n",
    "print(\"Time taken: {0}ms\".format((toc-tic)*1000))"
   ]
  },
  {
   "cell_type": "code",
   "execution_count": 204,
   "id": "308a8c48",
   "metadata": {},
   "outputs": [
    {
     "name": "stdout",
     "output_type": "stream",
     "text": [
      "Time taken: 1.9998550415039062ms\n"
     ]
    }
   ],
   "source": [
    "v = np.vectorize(f)\n",
    "#Using a vectorized function\n",
    "tic = time.time()\n",
    "C = v(A)\n",
    "toc = time.time()\n",
    "print(\"Time taken: {0}ms\".format((toc-tic)*1000))"
   ]
  }
 ],
 "metadata": {
  "kernelspec": {
   "display_name": "Python 3",
   "language": "python",
   "name": "python3"
  },
  "language_info": {
   "codemirror_mode": {
    "name": "ipython",
    "version": 3
   },
   "file_extension": ".py",
   "mimetype": "text/x-python",
   "name": "python",
   "nbconvert_exporter": "python",
   "pygments_lexer": "ipython3",
   "version": "3.8.8"
  }
 },
 "nbformat": 4,
 "nbformat_minor": 5
}
